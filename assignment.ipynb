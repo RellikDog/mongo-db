{
 "nbformat": 4,
 "nbformat_minor": 2,
 "metadata": {
  "language_info": {
   "name": "python",
   "codemirror_mode": {
    "name": "ipython",
    "version": 3
   },
   "version": "3.7.4-final"
  },
  "orig_nbformat": 2,
  "file_extension": ".py",
  "mimetype": "text/x-python",
  "name": "python",
  "npconvert_exporter": "python",
  "pygments_lexer": "ipython3",
  "version": 3,
  "kernelspec": {
   "name": "python3",
   "display_name": "Python 3"
  }
 },
 "cells": [
  {
   "cell_type": "code",
   "execution_count": 2,
   "metadata": {},
   "outputs": [],
   "source": [
    "from pymongo import MongoClient\n",
    "import pprint\n",
    "# Connect to the hosted MongoDB instance\n",
    "client = MongoClient('localhost', 27017)\n",
    "db = client['clicks']\n",
    "log = db['log']"
   ]
  },
  {
   "cell_type": "markdown",
   "metadata": {},
   "source": [
    "# MongoDB\n",
    "MongoDB is a popular noSQL database.  It's loose structure makes it well suited for capturing unstructured data, such as that encountered in web scraping.  This sprint will focus on getting up and running with this system.  This is intended to be an individual sprint.\n",
    "\n",
    "\n",
    "### Using Mongo with Docker\n",
    "It is highly recommended you get used to using Docker.  See [Using Mongo with Docker](using_mongo_with_docker.md) for detailed instructions.  If you want install MongoDB see instructions at the end of the assignment.  Again this is not recommended. \n",
    "\n",
    "\n",
    "## Practicing Mongo Queries \n",
    "\n",
    "To get familiar with MongoDB, we are going to load in some click-log data from \n",
    "a government website and do some basic queries on it. Write your queries in a \n",
    "text file. Paste and run the queries in the Mongo shell.\n",
    "\n",
    "1. Open a ***bash terminal in Docker***, navigate to the directory containing the data in Docker and load in the data with (for more detailed directions [see here](using_mongo_with_docker.md))    \n",
    "   `mongoimport --db clicks --collection log < click_log.json`\n",
    "\n",
    "2. **In the Mongo shell on Docker**, run `show dbs;` to make sure the `clicks` database has \n",
    "   been created. Run `use clicks;` to use the `clicks` database for your \n",
    "   queries.\n",
    "\n",
    "3. Inspect the `log` collection in your database. How many entries are in the \n",
    "   `log` collection? \n",
    "   \n",
    "   If you are not sure about what command to use, you can access the help \n",
    "   section by:\n",
    "    - `help`\n",
    "    - `db.help()`\n",
    "    - `db.<collection_name>.help()`\n",
    "\n",
    "   Mongo also has tab complete, so you can tab complete some of your commands \n",
    "   for convenience.  "
   ]
  },
  {
   "cell_type": "code",
   "execution_count": 5,
   "metadata": {},
   "outputs": [
    {
     "output_type": "execute_result",
     "data": {
      "text/plain": "3069"
     },
     "metadata": {},
     "execution_count": 5
    }
   ],
   "source": [
    "log.count_documents({})"
   ]
  },
  {
   "cell_type": "markdown",
   "metadata": {},
   "source": [
    "4. Print out all of the clicks you have stored using `.find()`. Now using \n",
    "   `.limit()`, return 10 entries. You can also use `.findOne()` to quickly \n",
    "   view the first row and examine the available columns.  "
   ]
  },
  {
   "cell_type": "code",
   "execution_count": 37,
   "metadata": {},
   "outputs": [
    {
     "output_type": "execute_result",
     "data": {
      "text/plain": "3069"
     },
     "metadata": {},
     "execution_count": 37
    }
   ],
   "source": [
    "len(list(log.find()))"
   ]
  },
  {
   "cell_type": "code",
   "execution_count": 16,
   "metadata": {},
   "outputs": [
    {
     "output_type": "execute_result",
     "data": {
      "text/plain": "{'_id': ObjectId('5e838dea6d350b74698b840b'),\n 'a': 'Mozilla/5.0 (iPhone; CPU iPhone OS 6_1_3 like Mac OS X) AppleWebKit/536.26 (KHTML, like Gecko) Mobile/10B329',\n 'c': 'US',\n 'nk': 0,\n 'tz': 'America/Los_Angeles',\n 'gr': 'CA',\n 'g': '1084Psg',\n 'h': '19Cztuz',\n 'l': 'tweetdeckapi',\n 'al': 'en-us',\n 'hh': '1.usa.gov',\n 'r': 'http://t.co/btKvKFBaF5',\n 'u': 'http://science.nasa.gov/science-news/science-at-nasa/2013/16may_lunarimpact/',\n 't': 1368774599,\n 'hc': 1368774179,\n 'cy': 'Palm Desert',\n 'll': [33.7724, -116.345802]}"
     },
     "metadata": {},
     "execution_count": 16
    }
   ],
   "source": [
    "log.find_one()"
   ]
  },
  {
   "cell_type": "markdown",
   "metadata": {},
   "source": [
    "5. Use `.find()` to find all the clicks where `cy` (city) is `San Francisco`. \n",
    "   How many are there?"
   ]
  },
  {
   "cell_type": "code",
   "execution_count": 20,
   "metadata": {},
   "outputs": [],
   "source": [
    "#list(log.find({'cy': 'San Francisco'}))"
   ]
  },
  {
   "cell_type": "markdown",
   "metadata": {},
   "source": [
    "6. Use `.distinct()` to find all the distinct types of web browsers (under the \n",
    "   field `a`) people use to visit the sites. Count the the number of distinct web \n",
    "   browsers (use `.length` on your distinct list)."
   ]
  },
  {
   "cell_type": "code",
   "execution_count": 23,
   "metadata": {},
   "outputs": [
    {
     "output_type": "execute_result",
     "data": {
      "text/plain": "559"
     },
     "metadata": {},
     "execution_count": 23
    }
   ],
   "source": [
    "len(log.distinct('a'))"
   ]
  },
  {
   "cell_type": "markdown",
   "metadata": {},
   "source": [
    "7. Select and count the records where the users have visited a website either \n",
    "   from a `Mozilla` or an `Opera` web browser. Search the `a` field using \n",
    "   [regex in mongo][mongo-like-query]. "
   ]
  },
  {
   "cell_type": "code",
   "execution_count": 38,
   "metadata": {},
   "outputs": [
    {
     "output_type": "execute_result",
     "data": {
      "text/plain": "2830"
     },
     "metadata": {},
     "execution_count": 38
    }
   ],
   "source": [
    "len(list(log.find({'a': { '$regex': 'oper|moz', '$options': 'gmi'}})))"
   ]
  },
  {
   "cell_type": "markdown",
   "metadata": {},
   "source": [
    "8. Find the type of the `t` (timestamp) field. You can access the type of a \n",
    "   field in an entry by using `typeof db.log.findOne({'t': {$exists: true}}).t`. \n",
    "   The field should be a `number` now.\n",
    "   \n",
    "   Convert the timestamp field to the date type. You will need to multiply the \n",
    "   number by 1000 and then make it a `Date` object (you can create a `Date` \n",
    "   object by using `new Date()`). You can loop over each record using \n",
    "   `.forEach()` and then [`.update()`][mongo-update] the record (using the `_id`\n",
    "   field) with the created `Date` object. When you're done, confirm that the \n",
    "   data type has been converted. Below is some template code. \n",
    "\n",
    "   ```javascript\n",
    "   db.log.find({'t': {$exists: true}}).forEach(function(entry) {\n",
    "      // your code to update an entry by _id and set the t field as a new \n",
    "      //  Date() object\n",
    "   })"
   ]
  },
  {
   "cell_type": "code",
   "execution_count": 42,
   "metadata": {},
   "outputs": [
    {
     "output_type": "error",
     "ename": "NameError",
     "evalue": "name 'typeof' is not defined",
     "traceback": [
      "\u001b[0;31m---------------------------------------------------------------------------\u001b[0m",
      "\u001b[0;31mNameError\u001b[0m                                 Traceback (most recent call last)",
      "\u001b[0;32m<ipython-input-42-0d0b9bfb64e2>\u001b[0m in \u001b[0;36m<module>\u001b[0;34m\u001b[0m\n\u001b[0;32m----> 1\u001b[0;31m \u001b[0mtypeof\u001b[0m\u001b[0;34m(\u001b[0m\u001b[0mlog\u001b[0m\u001b[0;34m.\u001b[0m\u001b[0mfind_one\u001b[0m\u001b[0;34m(\u001b[0m\u001b[0;34m{\u001b[0m\u001b[0;34m't'\u001b[0m\u001b[0;34m:\u001b[0m \u001b[0;34m{\u001b[0m\u001b[0;34m'$exists'\u001b[0m\u001b[0;34m:\u001b[0m \u001b[0;34m'true'\u001b[0m\u001b[0;34m}\u001b[0m\u001b[0;34m}\u001b[0m\u001b[0;34m)\u001b[0m\u001b[0;34m.\u001b[0m\u001b[0mt\u001b[0m\u001b[0;34m)\u001b[0m\u001b[0;34m\u001b[0m\u001b[0;34m\u001b[0m\u001b[0m\n\u001b[0m",
      "\u001b[0;31mNameError\u001b[0m: name 'typeof' is not defined"
     ]
    }
   ],
   "source": [
    "typeof(log.find_one({'t': {'$exists': 'true'}}).t)"
   ]
  },
  {
   "cell_type": "code",
   "execution_count": null,
   "metadata": {},
   "outputs": [],
   "source": []
  }
 ]
}